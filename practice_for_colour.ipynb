{
  "nbformat": 4,
  "nbformat_minor": 0,
  "metadata": {
    "colab": {
      "provenance": [],
      "authorship_tag": "ABX9TyO4LbkPD3XEYMrIUy7ngFX9",
      "include_colab_link": true
    },
    "kernelspec": {
      "name": "python3",
      "display_name": "Python 3"
    },
    "language_info": {
      "name": "python"
    }
  },
  "cells": [
    {
      "cell_type": "markdown",
      "metadata": {
        "id": "view-in-github",
        "colab_type": "text"
      },
      "source": [
        "<a href=\"https://colab.research.google.com/github/pravin-nawghare/url-shortner/blob/main/practice_for_colour.ipynb\" target=\"_parent\"><img src=\"https://colab.research.google.com/assets/colab-badge.svg\" alt=\"Open In Colab\"/></a>"
      ]
    },
    {
      "cell_type": "code",
      "source": [
        "#from google.colab import files\n",
        "import seaborn as sns\n",
        "import matplotlib.pyplot as plt"
      ],
      "metadata": {
        "id": "DY9SHzK7oZQz"
      },
      "execution_count": 1,
      "outputs": []
    },
    {
      "cell_type": "code",
      "execution_count": 35,
      "metadata": {
        "colab": {
          "base_uri": "https://localhost:8080/",
          "height": 540
        },
        "id": "GLeWDyS8nzH5",
        "outputId": "9906718a-4e52-4a1a-ed32-f6147e20f861"
      },
      "outputs": [
        {
          "output_type": "stream",
          "name": "stderr",
          "text": [
            "<ipython-input-35-12efdd9eb397>:8: FutureWarning: \n",
            "\n",
            "Passing `palette` without assigning `hue` is deprecated and will be removed in v0.14.0. Assign the `x` variable to `hue` and set `legend=False` for the same effect.\n",
            "\n",
            "  sns.barplot(data=data, x='x', y='y',palette='RdBu')\n"
          ]
        },
        {
          "output_type": "display_data",
          "data": {
            "text/plain": [
              "<Figure size 640x480 with 1 Axes>"
            ],
            "image/png": "[encoded data removed]"
          },
          "metadata": {}
        }
      ],
      "source": [
        "# prompt: create a bar plot with seaborn library with atleast 6 bars\n",
        "\n",
        "\n",
        "# Create some data\n",
        "data = {'x': [1, 2, 3, 4, 5, 6], 'y': [10, 20, 30, 40, 50, 60]}\n",
        "\n",
        "# Create the bar plot\n",
        "sns.barplot(data=data, x='x', y='y',palette='RdBu')\n",
        "\n",
        "#sns.color_palette(\"husl\", 9)\n",
        "\n",
        "#plt.savefig(\"sample.png\")\n",
        "#files.download(\"sample.png\")\n",
        "plt.show()\n"
      ]
    },
    {
      "cell_type": "markdown",
      "source": [
        "https://www.geeksforgeeks.org/seaborn-color-palette/"
      ],
      "metadata": {
        "id": "rov9noZpogTY"
      }
    },
    {
      "cell_type": "code",
      "source": [],
      "metadata": {
        "id": "OIujL4mloGoD"
      },
      "execution_count": null,
      "outputs": []
    }
  ]
}